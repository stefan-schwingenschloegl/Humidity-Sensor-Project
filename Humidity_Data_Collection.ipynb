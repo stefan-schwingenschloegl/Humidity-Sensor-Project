{
 "cells": [
  {
   "cell_type": "markdown",
   "metadata": {},
   "source": [
    "# Humidity Sensor Project\n",
    "Author: Stefan Roland Schwingenschlögl <br>\n",
    "email: stefan.roland.schwingenschloegl@gmail.com <br>\n",
    "github: github.com/stefan-schwingenschloegl <br>\n",
    "___\n",
    "*Projekt File No: 1 <br>*"
   ]
  },
  {
   "cell_type": "code",
   "execution_count": null,
   "metadata": {},
   "outputs": [],
   "source": [
    "import serial\n",
    "import time\n",
    "import numpy as np\n",
    "import pyodbc\n",
    "import datetime"
   ]
  },
  {
   "cell_type": "code",
   "execution_count": null,
   "metadata": {},
   "outputs": [],
   "source": [
    "addr = \"COM6\" ## serial port to read data from\n",
    "baud = 9600 ## baud rate for instrument\n",
    "\n",
    "ser = serial.Serial(port = addr, baudrate = baud, timeout=None)"
   ]
  },
  {
   "cell_type": "markdown",
   "metadata": {},
   "source": [
    "## Database Creation"
   ]
  },
  {
   "cell_type": "code",
   "execution_count": null,
   "metadata": {},
   "outputs": [],
   "source": [
    "# set properties for database\n",
    "db_name = 'ArduinoDB'\n",
    "server = 'DESKTOP-JV1HTQR\\SQLEXPRESS'\n",
    "db_connection = False"
   ]
  },
  {
   "cell_type": "code",
   "execution_count": null,
   "metadata": {},
   "outputs": [],
   "source": [
    "# establish DB Connection\n",
    "def db_connect(server, db_name):\n",
    "    conn = pyodbc.connect(\"driver={SQL Server};server=\"+server+\"; database=\"+db_name+\"; trusted_connection=true\")\n",
    "    db_connection = True\n",
    "    #print(f\"\\nConnection with {server} sucessfull!\\n\"\n",
    "     #     f\"Current Database: {db_name}\\n\"\n",
    "      #    f\"DB Connection Status: {db_connection}\")\n",
    "    return conn"
   ]
  },
  {
   "cell_type": "code",
   "execution_count": null,
   "metadata": {},
   "outputs": [],
   "source": [
    "# close DB Connection\n",
    "def close_connection(server, conn):\n",
    "    conn.close()\n",
    "    db_connection = False\n",
    "   # print(f\"\\nDB-Connection with Server {server} closed.\\n\"\n",
    "     #     f\"DB Connections Status: {db_connection}\")"
   ]
  },
  {
   "cell_type": "code",
   "execution_count": null,
   "metadata": {},
   "outputs": [],
   "source": [
    "# create Arduino Database if it does not exist\n",
    "def create_DB(server, db_name):\n",
    "    \n",
    "    # establish connection to master database\n",
    "    conn = db_connect(server=server, db_name='master')\n",
    "    \n",
    "    with conn:\n",
    "        crs=conn.cursor()\n",
    "        crs.execute(f\"IF NOT EXISTS(SELECT * FROM sys.databases WHERE name = '{db_name}') CREATE DATABASE {db_name};\")   \n",
    "        print(f\"{db_name} sucessfully created.\")\n",
    "    close_connection(server=server, conn=conn)"
   ]
  },
  {
   "cell_type": "code",
   "execution_count": null,
   "metadata": {},
   "outputs": [],
   "source": [
    "# create ArduinoDB\n",
    "create_DB(server, db_name)"
   ]
  },
  {
   "cell_type": "markdown",
   "metadata": {},
   "source": [
    "## Table Creation"
   ]
  },
  {
   "cell_type": "code",
   "execution_count": null,
   "metadata": {},
   "outputs": [],
   "source": [
    "# function to create table schema for static file\n",
    "def create_table(table_name, sql_command, server, db_name):\n",
    "    \"\"\"\n",
    "    Create table in relational Database\n",
    "    \n",
    "    Input: string: name of table, \n",
    "           string: sql-command which should be executed\n",
    "           string: name of database server\n",
    "           string: name of database name in database server\n",
    "    Output: None\n",
    "    \"\"\"\n",
    "    conn = db_connect(server=server, db_name=db_name)\n",
    "    with conn:\n",
    "        crs=conn.cursor()\n",
    "        crs.execute(sql_command)\n",
    "        print(f\"\\nTable '{table_name}' available in {db_name}\")\n",
    "    close_connection(server = server, conn=conn)"
   ]
  },
  {
   "cell_type": "code",
   "execution_count": null,
   "metadata": {},
   "outputs": [],
   "source": [
    "sql_command = '''\n",
    "IF NOT EXISTS(SELECT * FROM information_schema.tables\n",
    "                 WHERE table_name='sensor_values' AND table_schema='dbo') \n",
    "                 CREATE TABLE sensor_values (\n",
    "                        [timestamp] DATETIME2,\n",
    "                        [hum] numeric(4,2),\n",
    "                        [temp] numeric(4,2)\n",
    "                        )\n",
    "'''\n",
    "create_table('sensor_values', sql_command, server, db_name)"
   ]
  },
  {
   "cell_type": "markdown",
   "metadata": {},
   "source": [
    "## Get Values and insert into Database"
   ]
  },
  {
   "cell_type": "code",
   "execution_count": null,
   "metadata": {},
   "outputs": [],
   "source": [
    "def write_value(values):\n",
    "    \"\"\"\n",
    "    Insert values in format \"timestamp, humidity, temperature\" into Database\n",
    "    \n",
    "    Input: list ['humidity', 'temperature']\n",
    "    Output: None\n",
    "    \"\"\"\n",
    "    conn = db_connect(server=server, db_name=db_name)\n",
    "    time = datetime.datetime.now().strftime(\"%Y-%m-%d %H:%M:%S\") # get current timestamp\n",
    "    \n",
    "    if values == ['0']: # check if values are '0' -> if yes overwrite with Null\n",
    "        values = [None, None]\n",
    "        print(f\"Missing Values at {time}!\")\n",
    "\n",
    "    with conn:\n",
    "        crs=conn.cursor()\n",
    "        crs.execute(\"INSERT INTO [dbo].[sensor_values] ([timestamp], [hum], [temp]) VALUES( ?, ?, ?)\", time, values[0], values[1])\n",
    "    close_connection(server = server, conn = conn)\n",
    "    print(f\"Hum: {values[0]}, Temp: {values[1]}\", end='\\r')"
   ]
  },
  {
   "cell_type": "code",
   "execution_count": null,
   "metadata": {},
   "outputs": [],
   "source": [
    "# while loop to get data over serial and insert values into database\n",
    "# wait for 30 seconds for next entry\n",
    "# for now data gets collected via infity loop - termination manually\n",
    "while True:\n",
    "    value = ser.readline()\n",
    "    values = value.decode(\"utf-8\")[:-2].split('T') # split values at seperator 'T'\n",
    "    write_value(values)\n",
    "    bufClear = ser.read(ser.inWaiting())\n",
    "    time.sleep(30)"
   ]
  }
 ],
 "metadata": {
  "kernelspec": {
   "display_name": "Python 3",
   "language": "python",
   "name": "python3"
  },
  "language_info": {
   "codemirror_mode": {
    "name": "ipython",
    "version": 3
   },
   "file_extension": ".py",
   "mimetype": "text/x-python",
   "name": "python",
   "nbconvert_exporter": "python",
   "pygments_lexer": "ipython3",
   "version": "3.7.6"
  }
 },
 "nbformat": 4,
 "nbformat_minor": 4
}
